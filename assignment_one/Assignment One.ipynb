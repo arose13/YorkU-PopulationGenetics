{
 "cells": [
  {
   "cell_type": "markdown",
   "metadata": {},
   "source": [
    "# Population Genetics\n",
    "## Assignment 1\n",
    "\n",
    "I'm working on dataset __33__"
   ]
  },
  {
   "cell_type": "code",
   "execution_count": 1,
   "metadata": {
    "collapsed": true
   },
   "outputs": [],
   "source": [
    "import AssignmentOneFunctions as func"
   ]
  },
  {
   "cell_type": "markdown",
   "metadata": {},
   "source": [
    "## Part 1 - Allozyme Genetics Exercise"
   ]
  },
  {
   "cell_type": "code",
   "execution_count": 2,
   "metadata": {
    "collapsed": false,
    "scrolled": false
   },
   "outputs": [
    {
     "name": "stdout",
     "output_type": "stream",
     "text": [
      "Index(['EST 1', 'EST 2', 'EST 3', 'EST 4', 'EST 5'], dtype='object')\n",
      "-------------------------------------------\n",
      "EST 1\n",
      "Alleles in Population: ['2', '1']\n",
      "Number of Alleles per Locus: 2\n",
      "Freq p2 is 0.975\n",
      "Freq p1 is 0.025\n",
      "Observed Heterozygosity: 0.05\n",
      "Expected Heterozygosity: 0.04875000000000007\n",
      "F_is: 0.025641025641024204\n",
      "\n",
      " Expected Numbers\n",
      "        22     21      11\n",
      "0  19.0125  0.975  0.0125\n",
      "\n",
      " Observed Numbers\n",
      "   22  21  11\n",
      "0  19   1   0\n",
      "\n",
      " CHI^2: 0.013149243918474685\n",
      "df: 1, p: 0.9087065725354662\n",
      "\n",
      "-------------------------------------------\n",
      "EST 2\n",
      "Alleles in Population: ['2', '3', '1']\n",
      "Number of Alleles per Locus: 3\n",
      "Freq p2 is 0.875\n",
      "Freq p3 is 0.1\n",
      "Freq p1 is 0.025\n",
      "Observed Heterozygosity: 0.25\n",
      "Expected Heterozygosity: 0.22375\n",
      "F_is: 0.11731843575418992\n",
      "\n",
      " Expected Numbers\n",
      "        22   23     21   33   31      11\n",
      "0  15.3125  3.5  0.875  0.2  0.1  0.0125\n",
      "\n",
      " Observed Numbers\n",
      "   22  23  21  33  31  11\n",
      "0  15   4   1   0   0   0\n",
      "\n",
      " CHI^2: 0.40816326530612235\n",
      "df: 4, p: 0.9818031128020472\n",
      "\n",
      "-------------------------------------------\n",
      "EST 3\n",
      "Alleles in Population: ['2', '3', '1']\n",
      "Number of Alleles per Locus: 3\n",
      "Freq p2 is 0.8\n",
      "Freq p3 is 0.05\n",
      "Freq p1 is 0.15\n",
      "Observed Heterozygosity: 0.4\n",
      "Expected Heterozygosity: 0.33499999999999996\n",
      "F_is: 0.19402985074626886\n",
      "\n",
      " Expected Numbers\n",
      "     22   23   21    33   31    11\n",
      "0  12.8  1.6  4.8  0.05  0.3  0.45\n",
      "\n",
      " Observed Numbers\n",
      "   22  23  21  33  31  11\n",
      "0  12   2   6   0   0   0\n",
      "\n",
      " CHI^2: 1.2500000000000002\n",
      "df: 4, p: 0.8697998213433591\n",
      "\n",
      "-------------------------------------------\n",
      "EST 4\n",
      "Alleles in Population: ['2', '3', '1']\n",
      "Number of Alleles per Locus: 3\n",
      "Freq p2 is 0.775\n",
      "Freq p3 is 0.2\n",
      "Freq p1 is 0.025\n",
      "Observed Heterozygosity: 0.25\n",
      "Expected Heterozygosity: 0.3587499999999999\n",
      "F_is: 0.30313588850174195\n",
      "\n",
      " Expected Numbers\n",
      "        22   23     21   33   31      11\n",
      "0  12.0125  6.2  0.775  0.8  0.2  0.0125\n",
      "\n",
      " Observed Numbers\n",
      "   22  23  21  33  31  11\n",
      "0  13   4   1   2   0   0\n",
      "\n",
      " CHI^2: 2.9396462018730483\n",
      "df: 4, p: 0.5679757402983574\n",
      "\n",
      "-------------------------------------------\n",
      "EST 5\n",
      "Alleles in Population: ['2', '1']\n",
      "Number of Alleles per Locus: 2\n",
      "Freq p2 is 0.85\n",
      "Freq p1 is 0.15\n",
      "Observed Heterozygosity: 0.3\n",
      "Expected Heterozygosity: 0.2550000000000001\n",
      "F_is: 0.17647058823529355\n",
      "\n",
      " Expected Numbers\n",
      "      22   21    11\n",
      "0  14.45  5.1  0.45\n",
      "\n",
      " Observed Numbers\n",
      "   22  21  11\n",
      "0  14   6   0\n",
      "\n",
      " CHI^2: 0.6228373702422145\n",
      "df: 1, p: 0.4299948516328659\n",
      "\n"
     ]
    }
   ],
   "source": [
    "# Look how quickly I can get answers to my questions!\n",
    "func.run_analysis_part_1(file='data/KrisGenotypeData.csv')"
   ]
  },
  {
   "cell_type": "markdown",
   "metadata": {},
   "source": [
    "## Part 2 - Sequence Analysis Exercise"
   ]
  },
  {
   "cell_type": "code",
   "execution_count": 3,
   "metadata": {
    "collapsed": false,
    "scrolled": false
   },
   "outputs": [
    {
     "name": "stdout",
     "output_type": "stream",
     "text": [
      "  POS1 POS2 POS3 POS4 POS5 POS6 POS7 POS8 POS9 POS10 POS11 POS12\n",
      "0    T    G    G    C    C    T    C    G    A     G     C     T\n",
      "1    T    G    A    C    C    T    C    T    G     G     T     T\n",
      "2    G    G    A    C    A    A    C    T    G     G     T     T\n",
      "3    G    C    A    C    A    A    A    T    G     G     T     A\n",
      "4    G    C    A    A    A    A    A    T    G     C     T     A\n",
      "\n",
      "Site Mismatches \n",
      "[6, 6, 4, 4, 6, 6, 6, 4, 4, 4, 4, 6]\n",
      "Pi: 0.006\n"
     ]
    }
   ],
   "source": [
    "# Sequence Analysis is even faster\n",
    "func.run_analysis_part_2(file='data/KrisSequenceDiversityData.csv')"
   ]
  },
  {
   "cell_type": "markdown",
   "metadata": {
    "collapsed": true
   },
   "source": [
    "# Run Unit Tests after making changes!\n",
    "\n",
    "This is for marks so it is important to make sure that the program is still giving correct answers"
   ]
  }
 ],
 "metadata": {
  "kernelspec": {
   "display_name": "Python 3",
   "language": "python",
   "name": "python3"
  },
  "language_info": {
   "codemirror_mode": {
    "name": "ipython",
    "version": 3
   },
   "file_extension": ".py",
   "mimetype": "text/x-python",
   "name": "python",
   "nbconvert_exporter": "python",
   "pygments_lexer": "ipython3",
   "version": "3.5.1"
  }
 },
 "nbformat": 4,
 "nbformat_minor": 0
}
