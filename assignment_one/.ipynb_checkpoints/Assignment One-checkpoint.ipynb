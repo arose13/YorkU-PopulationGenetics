{
 "cells": [
  {
   "cell_type": "markdown",
   "metadata": {},
   "source": [
    "# Population Genetics\n",
    "## Assignment 1\n",
    "\n",
    "I'm working on dataset __33__"
   ]
  },
  {
   "cell_type": "code",
   "execution_count": 1,
   "metadata": {
    "collapsed": true
   },
   "outputs": [],
   "source": [
    "import AssignmentOneFunctions as func"
   ]
  },
  {
   "cell_type": "markdown",
   "metadata": {},
   "source": [
    "## Part 1 - Allozyme Genetics Exercise"
   ]
  },
  {
   "cell_type": "code",
   "execution_count": 2,
   "metadata": {
    "collapsed": false,
    "scrolled": false
   },
   "outputs": [
    {
     "name": "stdout",
     "output_type": "stream",
     "text": [
      "Index(['EST1', 'EST2', 'EST3', 'EST4', 'EST5'], dtype='object')\n",
      "-------------------------------------------\n",
      "EST1\n",
      "Alleles in Population: ['1', '2']\n",
      "Number of Alleles per Locus: 2\n",
      "Freq p1 is 0.05\n",
      "Freq p2 is 0.95\n",
      "Observed Heterozygosity: 0.1\n",
      "Expected Heterozygosity: 0.09500000000000008\n",
      "F_is: 0.052631578947367544\n",
      "\n",
      " Expected Numbers\n",
      "     11   12     22\n",
      "0  0.05  1.9  18.05\n",
      "\n",
      " Observed Numbers\n",
      "   11  12  22\n",
      "0   0   2  18\n",
      "\n",
      " CHI^2: 0.05540166204986152\n",
      "\n",
      "-------------------------------------------\n",
      "EST2\n",
      "Alleles in Population: ['1', '3', '2']\n",
      "Number of Alleles per Locus: 3\n",
      "Freq p1 is 0.025\n",
      "Freq p3 is 0.1\n",
      "Freq p2 is 0.875\n",
      "Observed Heterozygosity: 0.25\n",
      "Expected Heterozygosity: 0.22375\n",
      "F_is: 0.11731843575418992\n",
      "\n",
      " Expected Numbers\n",
      "       11   13     12   33   32       22\n",
      "0  0.0125  0.1  0.875  0.2  3.5  15.3125\n",
      "\n",
      " Observed Numbers\n",
      "   11  13  12  33  32  22\n",
      "0   0   0   1   0   4  15\n",
      "\n",
      " CHI^2: 0.40816326530612235\n",
      "\n",
      "-------------------------------------------\n",
      "EST3\n",
      "Alleles in Population: ['1', '3', '2']\n",
      "Number of Alleles per Locus: 3\n",
      "Freq p1 is 0.075\n",
      "Freq p3 is 0.025\n",
      "Freq p2 is 0.9\n",
      "Observed Heterozygosity: 0.2\n",
      "Expected Heterozygosity: 0.18374999999999997\n",
      "F_is: 0.08843537414966011\n",
      "\n",
      " Expected Numbers\n",
      "       11     13   12      33   32    22\n",
      "0  0.1125  0.075  2.7  0.0125  0.9  16.2\n",
      "\n",
      " Observed Numbers\n",
      "   11  13  12  33  32  22\n",
      "0   0   0   3   0   1  16\n",
      "\n",
      " CHI^2: 0.2469135802469136\n",
      "\n",
      "-------------------------------------------\n",
      "EST4\n",
      "Alleles in Population: ['3', '2']\n",
      "Number of Alleles per Locus: 2\n",
      "Freq p3 is 0.175\n",
      "Freq p2 is 0.825\n",
      "Observed Heterozygosity: 0.35\n",
      "Expected Heterozygosity: 0.28875000000000006\n",
      "F_is: 0.2121212121212118\n",
      "\n",
      " Expected Numbers\n",
      "       33     32       22\n",
      "0  0.6125  5.775  13.6125\n",
      "\n",
      " Observed Numbers\n",
      "   33  32  22\n",
      "0   0   7  13\n",
      "\n",
      " CHI^2: 0.8999081726354459\n",
      "\n",
      "-------------------------------------------\n",
      "EST5\n",
      "Alleles in Population: ['1', '3', '2']\n",
      "Number of Alleles per Locus: 3\n",
      "Freq p1 is 0.175\n",
      "Freq p3 is 0.05\n",
      "Freq p2 is 0.775\n",
      "Observed Heterozygosity: 0.4\n",
      "Expected Heterozygosity: 0.36624999999999996\n",
      "F_is: 0.09215017064846433\n",
      "\n",
      " Expected Numbers\n",
      "       11    13     12    33    32       22\n",
      "0  0.6125  0.35  5.425  0.05  1.55  12.0125\n",
      "\n",
      " Observed Numbers\n",
      "   11  13  12  33  32  22\n",
      "0   0   1   6   0   1  12\n",
      "\n",
      " CHI^2: 2.1257618552103468\n",
      "\n"
     ]
    }
   ],
   "source": [
    "# Look how quickly I can get answers to my questions!\n",
    "func.run_analysis_part_1()"
   ]
  },
  {
   "cell_type": "markdown",
   "metadata": {},
   "source": [
    "## Part 2 - Sequence Analysis Exercise"
   ]
  },
  {
   "cell_type": "code",
   "execution_count": 3,
   "metadata": {
    "collapsed": false
   },
   "outputs": [
    {
     "name": "stdout",
     "output_type": "stream",
     "text": [
      "  pos1 pos2 pos3 pos4 pos5 pos6 pos7 pos8 pos9 pos10 pos11 pos12\n",
      "0    T    A    A    G    T    T    C    C    C     A     C     C\n",
      "1    T    T    A    G    T    T    C    C    C     A     C     C\n",
      "2    T    T    T    G    T    C    C    C    C     G     C     A\n",
      "3    G    T    T    T    G    C    G    C    G     G     G     A\n",
      "4    G    T    T    T    G    C    G    A    G     G     G     A\n",
      "\n",
      "Site Mismatches \n",
      "[6, 4, 6, 6, 6, 6, 6, 4, 6, 6, 6, 6]\n",
      "Pi: 0.0068\n"
     ]
    }
   ],
   "source": [
    "# Sequence Analysis is even faster\n",
    "func.run_analysis_part_2()"
   ]
  },
  {
   "cell_type": "markdown",
   "metadata": {
    "collapsed": true
   },
   "source": [
    "# Run Unit Tests after making changes!\n",
    "\n",
    "This is for marks so it is important to make sure that the program is still giving correct answers"
   ]
  }
 ],
 "metadata": {
  "kernelspec": {
   "display_name": "Python 3",
   "language": "python",
   "name": "python3"
  },
  "language_info": {
   "codemirror_mode": {
    "name": "ipython",
    "version": 3
   },
   "file_extension": ".py",
   "mimetype": "text/x-python",
   "name": "python",
   "nbconvert_exporter": "python",
   "pygments_lexer": "ipython3",
   "version": "3.5.1"
  }
 },
 "nbformat": 4,
 "nbformat_minor": 0
}
